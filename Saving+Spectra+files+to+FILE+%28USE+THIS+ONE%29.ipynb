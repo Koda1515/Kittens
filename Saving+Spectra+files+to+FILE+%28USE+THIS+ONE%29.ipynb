{
 "cells": [
  {
   "cell_type": "code",
   "execution_count": 171,
   "metadata": {
    "collapsed": true
   },
   "outputs": [],
   "source": [
    "%matplotlib inline\n",
    "import matplotlib\n",
    "import matplotlib.pyplot as plt"
   ]
  },
  {
   "cell_type": "code",
   "execution_count": 172,
   "metadata": {
    "collapsed": true
   },
   "outputs": [],
   "source": [
    "from IPython.core.display import HTML\n",
    "from IPython.core.pylabtools import figsize"
   ]
  },
  {
   "cell_type": "code",
   "execution_count": 173,
   "metadata": {
    "collapsed": false
   },
   "outputs": [],
   "source": [
    "import numpy as np\n",
    "import math as m\n",
    "import csv\n",
    "import os.path \n",
    "from os import listdir\n",
    "import os, sys\n",
    "import os"
   ]
  },
  {
   "cell_type": "code",
   "execution_count": 502,
   "metadata": {
    "collapsed": false
   },
   "outputs": [
    {
     "data": {
      "text/plain": [
       "(87552, 87552)"
      ]
     },
     "execution_count": 502,
     "metadata": {},
     "output_type": "execute_result"
    }
   ],
   "source": [
    "path = \"/Users/kellygarcia/Google Drive/CSDX Spectroscopy/2017_08_27/Port_3/\"\n",
    "dirs = os.listdir(path)\n",
    "wavelength = []\n",
    "intensity = []\n",
    "for filename in dirs:\n",
    "    if filename.startswith(\"2.4kW_25sccm_4.0mT_\") and filename.endswith(\".txt\"):\n",
    "        if filename[22:24] > '07': #and filename[22:24]!= '07':\n",
    "            #print filename\n",
    "            read = open(path + filename, \"r\")\n",
    "            reader = csv.reader(read, delimiter='\\n')\n",
    "        #print reader\n",
    "            result = np.array(list(reader))\n",
    "            for i in range(0, len(result)):\n",
    "                p = result[i]\n",
    "                dat = p[0].split('\\t')\n",
    "                w = float(dat[0])\n",
    "                i = float(dat[1])\n",
    "                wavelength.append(w)\n",
    "                intensity.append(i)\n",
    "            \n",
    "len(intensity), len(wavelength)\n"
   ]
  },
  {
   "cell_type": "code",
   "execution_count": 503,
   "metadata": {
    "collapsed": false
   },
   "outputs": [
    {
     "data": {
      "text/plain": [
       "24"
      ]
     },
     "execution_count": 503,
     "metadata": {},
     "output_type": "execute_result"
    }
   ],
   "source": [
    "len(wavelength)/3648"
   ]
  },
  {
   "cell_type": "markdown",
   "metadata": {
    "collapsed": false
   },
   "source": [
    "#new_wavelength1 = np.array(new_wavelength)\n",
    "new_intensity1 = np.array(new_intensity)\n",
    "\n",
    "#avg_wavelength = []\n",
    "avg_intensity = []\n",
    "\n",
    "#there are 35020800 data points, 9600 lists in one nested list, 364800 files per B field, therefore we add every\n",
    "#successive 100 files and average them to get 3648 data points per B field. \n",
    "\n",
    "#THIS TAKES THE AVERAGE OVER EVERY SUCCESSIVE 100 ARRAYS\n",
    "for i in range(0,len(new_intensity1),100):\n",
    "    a = np.sum(new_intensity1[i:i+100]/100, axis=0)\n",
    "    avg_intensity.append(a)\n",
    "print len(avg_intensity)\n"
   ]
  },
  {
   "cell_type": "code",
   "execution_count": 91,
   "metadata": {
    "collapsed": false
   },
   "outputs": [
    {
     "data": {
      "text/plain": [
       "(40128, 62016)"
      ]
     },
     "execution_count": 91,
     "metadata": {},
     "output_type": "execute_result"
    }
   ],
   "source": [
    "(len(wavelength)/2), 3648*17"
   ]
  },
  {
   "cell_type": "markdown",
   "metadata": {},
   "source": [
    "##USE THIS FOR AVERAGING\n",
    "\n",
    "#avg_int = np.array(avg_intensity).tolist() \n",
    "#avg_int2 = []\n",
    "#for lis in avg_int:\n",
    "    #for elem in lis:\n",
    "        #avg_int2.append(elem)\n",
    "#print len(avg_int2)"
   ]
  },
  {
   "cell_type": "code",
   "execution_count": 504,
   "metadata": {
    "collapsed": false
   },
   "outputs": [],
   "source": [
    "#splitting the lists into forward and reverse\n",
    "\n",
    "half_wave1 = wavelength[0:(len(wavelength)/2)]\n",
    "half_wave2 = wavelength[(len(wavelength)/2):len(wavelength)]\n",
    "\n",
    "half_int1 = intensity[0:(len(intensity)/2)]\n",
    "half_int2 = intensity[(len(intensity)/2):len(intensity)]\n",
    "\n"
   ]
  },
  {
   "cell_type": "markdown",
   "metadata": {
    "collapsed": false
   },
   "source": [
    "##USE ONLY FOR AVERAGING\n",
    "\n",
    "##TAKES TOTAL NUMBER OF FILES\n",
    "#avg_wave = wavelength[0:(3648)]\n",
    "#print len(avg_wave)\n",
    "\n",
    "##TAKES ONLY HALF NUMBER OF FILES\n",
    "avg_wave2 = wavelength[0:(3648*27)]\n",
    "print len(avg_wave2)"
   ]
  },
  {
   "cell_type": "code",
   "execution_count": 506,
   "metadata": {
    "collapsed": false
   },
   "outputs": [],
   "source": [
    "#Taking a look at our excel sheet, we will put our current and magnetic field values.\n",
    "import itertools\n",
    "Ii = 190\n",
    "If = 300\n",
    "Bi = Ii*3.015 + 10\n",
    "Bf = If*3.015 + 10\n",
    "\n",
    "#These next lines separate the current in increments of 10 like how we run CSDX and likewise does the same for \n",
    "#magnetic field by counts of (10*3.015 + 10).\n",
    "#The new lists repeat each element 3648 times.\n",
    "I = np.linspace(Ii,If,len(wavelength)/3648/2)\n",
    "B = np.linspace(Bi, Bf, len(wavelength)/3648/2)\n",
    "I_list = list(itertools.chain.from_iterable(itertools.repeat(x, 3648) for x in I))\n",
    "B_list = list(itertools.chain.from_iterable(itertools.repeat(x, 3648) for x in B))"
   ]
  },
  {
   "cell_type": "code",
   "execution_count": 507,
   "metadata": {
    "collapsed": false
   },
   "outputs": [
    {
     "data": {
      "text/plain": [
       "True"
      ]
     },
     "execution_count": 507,
     "metadata": {},
     "output_type": "execute_result"
    }
   ],
   "source": [
    "len(B_list) == len(wavelength)/2"
   ]
  },
  {
   "cell_type": "code",
   "execution_count": 508,
   "metadata": {
    "collapsed": false
   },
   "outputs": [
    {
     "name": "stdout",
     "output_type": "stream",
     "text": [
      "done\n"
     ]
    }
   ],
   "source": [
    "#CHANGE NAME FOR FORWARD OR REVERSE AND PARAMETER\n",
    "datafile_path = \"/Users/kellygarcia/Google Drive/Test/Port3 2.4kW 25sccm 4.0mT Forward 2017-08-27 no avg.txt\"\n",
    "datafile_id = open(datafile_path, \"w+\")                                       #^^change here\n",
    "\n",
    "xarray = np.array(half_wave1) #for reverse, use half_wave2 and half_wave2\n",
    "yarray = np.array(half_int1)\n",
    "zarray = np.array(I_list)     #for reverse, please reverse the list using [::-1] \n",
    "rarray = np.array(B_list)\n",
    "\n",
    "\n",
    "#we must convert these individuals arrays into one larger array called data. Then we will transform \n",
    "#the resulting array so that they appear as columns as numbers, and again store it as data because we can.\n",
    "data = np.array([xarray, yarray, zarray, rarray])\n",
    "data = data.T\n",
    "\n",
    "#interestingly enough, i found that saving these as strings was the easiest! That is what we are doing here.\n",
    "#The text files that we use for the newer codes I have used are tailored for this structure.\n",
    "np.savetxt(datafile_id, data, fmt=['%s','%s','%s','%s']) \n",
    "\n",
    "datafile_id.close()\n",
    "print 'done'"
   ]
  },
  {
   "cell_type": "code",
   "execution_count": 500,
   "metadata": {
    "collapsed": false
   },
   "outputs": [
    {
     "name": "stdout",
     "output_type": "stream",
     "text": [
      "done\n"
     ]
    }
   ],
   "source": [
    "#let's clean up the folder- this is a check I had to do previously in order to get rid of duplicates\n",
    "#feel free to ignore :)\n",
    "\n",
    "path = \"/Users/kellygarcia/Google Drive/CSDX Spectroscopy/2017_08_27/Port_3/\"\n",
    "dirs = os.listdir(path)\n",
    "wavelength = []\n",
    "intensity = []\n",
    "for filename in dirs:\n",
    "    if filename.startswith(\"2.4kW_25sccm_4.0mT_\") and filename.endswith(\").txt\"):\n",
    "        #print filename\n",
    "        os.remove(path + filename)\n",
    "print 'done'"
   ]
  },
  {
   "cell_type": "code",
   "execution_count": 476,
   "metadata": {
    "collapsed": false,
    "scrolled": true
   },
   "outputs": [
    {
     "name": "stdout",
     "output_type": "stream",
     "text": [
      "3648\n"
     ]
    }
   ],
   "source": [
    "f = open(\"/Users/kellygarcia/Google Drive/CSDX Spectroscopy/2017_08_27/Port_3/2.0kW_25sccm_2.0mT_00007.txt\", \"r\")\n",
    "reader = csv.reader(f, delimiter='\\n')\n",
    "result = np.array(list(reader))\n",
    "\n",
    "wavelength = []\n",
    "intensity = []\n",
    "for i in range(0, len(result)):\n",
    "    p = result[i]\n",
    "    dat = p[0].split('\\t')\n",
    "    w = float(dat[0])\n",
    "    i = float(dat[1])\n",
    "    wavelength.append(w)\n",
    "    intensity.append(i)\n",
    "f.close()\n",
    "print len(wavelength)"
   ]
  },
  {
   "cell_type": "code",
   "execution_count": 477,
   "metadata": {
    "collapsed": false
   },
   "outputs": [],
   "source": [
    "f = open(\"/Users/kellygarcia/Google Drive/CSDX Spectroscopy/2017_08_27/Port_3/2.0kW_25sccm_2.0mT_00007 (1).txt\", \"r\")\n",
    "reader = csv.reader(f, delimiter='\\n')\n",
    "result = np.array(list(reader))\n",
    "\n",
    "wavelength1 = []\n",
    "intensity1 = []\n",
    "for i in range(0, len(result)):\n",
    "    p = result[i]\n",
    "    dat = p[0].split('\\t')\n",
    "    w = float(dat[0])\n",
    "    i = float(dat[1])\n",
    "    wavelength1.append(w)\n",
    "    intensity1.append(i)\n",
    "f.close()"
   ]
  }
 ],
 "metadata": {
  "kernelspec": {
   "display_name": "Python 2",
   "language": "python",
   "name": "python2"
  },
  "language_info": {
   "codemirror_mode": {
    "name": "ipython",
    "version": 2
   },
   "file_extension": ".py",
   "mimetype": "text/x-python",
   "name": "python",
   "nbconvert_exporter": "python",
   "pygments_lexer": "ipython2",
   "version": "2.7.13"
  }
 },
 "nbformat": 4,
 "nbformat_minor": 2
}
