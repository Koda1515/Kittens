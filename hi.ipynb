{
 "cells": [
  {
   "cell_type": "code",
   "execution_count": 18,
   "metadata": {
    "collapsed": true
   },
   "outputs": [],
   "source": [
    "%matplotlib inline\n",
    "import csv\n",
    "#comma separated value\n",
    "import numpy as np\n",
    "import os, sys"
   ]
  },
  {
   "cell_type": "code",
   "execution_count": 24,
   "metadata": {},
   "outputs": [],
   "source": [
    "f = open(\"/Users/Jannie/Documents/Pressure Data/3.2mTorr increasing manual.txt\",\"r\")\n",
    "#print(f.read())\n",
    "\n",
    "reader = csv.reader(f,delimiter = '\\n')\n",
    "result = np.array(list(reader))\n",
    "f.close()\n",
    "\n"
   ]
  },
  {
   "cell_type": "code",
   "execution_count": 25,
   "metadata": {
    "collapsed": true
   },
   "outputs": [],
   "source": [
    "f = open(\"/Users/Jannie/Documents/Pressure Data/3.2mTorr decreasing manual.txt\",\"r\")\n",
    "#print(f.read())\n",
    "\n",
    "reader1 = csv.reader(f,delimiter = '\\n')\n",
    "result1 = np.array(list(reader1))\n",
    "f.close()\n",
    "\n",
    "\n"
   ]
  },
  {
   "cell_type": "code",
   "execution_count": 26,
   "metadata": {},
   "outputs": [],
   "source": [
    "pressure_y1 = []\n",
    "b_field_x1 = []\n",
    "\n",
    "for i in range (0, len(result)):\n",
    "    x = result[i]\n",
    "    dat = x[0].split('\\t')\n",
    "    b = float(dat[0])\n",
    "    p = float(dat[1])\n",
    "    b_field_x1.append(b)\n",
    "    pressure_y1.append(p)\n",
    "f.close()"
   ]
  },
  {
   "cell_type": "code",
   "execution_count": 27,
   "metadata": {},
   "outputs": [],
   "source": [
    "pressure_y2 = []\n",
    "b_field_x2 = []\n",
    "\n",
    "for i in range (0, len(result1)):\n",
    "    x = result1[i]\n",
    "    dat = x[0].split('\\t')\n",
    "    b = float(dat[0])\n",
    "    p = float(dat[1])\n",
    "    b_field_x2.append(b)\n",
    "    pressure_y2.append(p)\n",
    "f.close()"
   ]
  },
  {
   "cell_type": "code",
   "execution_count": 28,
   "metadata": {},
   "outputs": [
    {
     "data": {
      "image/png": "[encoded data removed]",
      "text/plain": [
       "<matplotlib.figure.Figure at 0x11a8502b0>"
      ]
     },
     "metadata": {},
     "output_type": "display_data"
    }
   ],
   "source": [
    "import matplotlib\n",
    "import matplotlib.pyplot as plt\n",
    "from IPython.core.display import HTML\n",
    "from IPython.core.pylabtools import figsize\n",
    "\n",
    "figsize(7,4)\n",
    "x1 = b_field_x1\n",
    "y1 = pressure_y1\n",
    "\n",
    "x2 = b_field_x2\n",
    "y2 = pressure_y2\n",
    "\n",
    "plt.xlabel('Magnetic Field (Gauss)')\n",
    "plt.ylabel('Pressure (mTorr)')\n",
    "plt.title('1.6kW_25sccm_2.4mTorr Manual')\n",
    "plt.plot(x1,y1, 'b')\n",
    "plt.plot(x2,y2, \"r\")\n",
    "plt.show()\n",
    "\n",
    "\n",
    "#print(x1)"
   ]
  },
  {
   "cell_type": "code",
   "execution_count": null,
   "metadata": {
    "collapsed": true
   },
   "outputs": [],
   "source": []
  }
 ],
 "metadata": {
  "kernelspec": {
   "display_name": "Python 3",
   "language": "python",
   "name": "python3"
  },
  "language_info": {
   "codemirror_mode": {
    "name": "ipython",
    "version": 3
   },
   "file_extension": ".py",
   "mimetype": "text/x-python",
   "name": "python",
   "nbconvert_exporter": "python",
   "pygments_lexer": "ipython3",
   "version": "3.6.1"
  }
 },
 "nbformat": 4,
 "nbformat_minor": 2
}
