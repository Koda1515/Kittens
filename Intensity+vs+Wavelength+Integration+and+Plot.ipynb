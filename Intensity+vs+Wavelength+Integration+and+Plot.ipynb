{
 "cells": [
  {
   "cell_type": "code",
   "execution_count": 1,
   "metadata": {
    "collapsed": true
   },
   "outputs": [],
   "source": [
    "import matplotlib\n",
    "import matplotlib.pyplot as plt\n",
    "%matplotlib inline\n",
    "import os.path \n",
    "from os import listdir\n",
    "import os, sys"
   ]
  },
  {
   "cell_type": "code",
   "execution_count": 2,
   "metadata": {
    "collapsed": false
   },
   "outputs": [
    {
     "name": "stderr",
     "output_type": "stream",
     "text": [
      "/Users/kellygarcia/anaconda/lib/python2.7/site-packages/IPython/html.py:14: ShimWarning: The `IPython.html` package has been deprecated. You should import from `notebook` instead. `IPython.html.widgets` has moved to `ipywidgets`.\n",
      "  \"`IPython.html.widgets` has moved to `ipywidgets`.\", ShimWarning)\n"
     ]
    }
   ],
   "source": [
    "from IPython.core.display import HTML\n",
    "from IPython.core.pylabtools import figsize\n",
    "from ipywidgets import interact, interactive, fixed\n",
    "from IPython.display import clear_output, display, HTML\n",
    "from IPython.html import widgets\n",
    "from PIL import Image"
   ]
  },
  {
   "cell_type": "code",
   "execution_count": 3,
   "metadata": {
    "collapsed": false
   },
   "outputs": [],
   "source": [
    "import numpy as np\n",
    "import math as m\n",
    "import csv\n",
    "\n",
    "from numpy import trapz\n",
    "#from numpy import cumtrapz\n",
    "#import plotly.plotly as py\n",
    "#import plotly.graph_objs as go"
   ]
  },
  {
   "cell_type": "raw",
   "metadata": {
    "collapsed": false
   },
   "source": [
    "s_title = \" 1.2kW 25sccm 2.0mT Forward \"\n",
    "Ports = [1,3]\n",
    "\n",
    "path = \"/Users/kellygarcia/Google Drive/Test/Text Files/1.2kW 2.0mT/\"\n",
    "dirs = os.listdir(path)\n",
    "wavelength = []\n",
    "intensity = []\n",
    "current = []\n",
    "magnetic_field = []\n",
    "for filename in dirs:\n",
    "    for i in Ports:\n",
    "        if filename.startswith( \"Port\" + str(i) + str(s_title)) and filename.endswith(\".txt\"):\n",
    "            print filename\n",
    "            reader = csv.reader(open(path + filename, 'r'), delimiter='\\n')\n",
    "            result = np.array(list(reader))\n",
    "            for i in range(0,len(result)):\n",
    "                p = result[i]\n",
    "                dat = p[0].split()\n",
    "                w = float(dat[0])\n",
    "                i = float(dat[1])\n",
    "                c = float(dat[2])\n",
    "                m = float(dat[3])\n",
    "                wavelength.append(w)\n",
    "                intensity.append(i)\n",
    "                current.append(c)\n",
    "                magnetic_field.append(m)\n",
    "                \n",
    "len(wavelength)\n",
    "\n"
   ]
  },
  {
   "cell_type": "code",
   "execution_count": 4,
   "metadata": {
    "collapsed": false
   },
   "outputs": [
    {
     "name": "stdout",
     "output_type": "stream",
     "text": [
      "Icon\n",
      "Port3 2.4kW 25sccm 2.0mT Forward 2017-08-27 no avg.txt\n",
      "Port3 2.4kW 25sccm 2.0mT Reverse 2017-08-27 no avg.txt\n"
     ]
    },
    {
     "data": {
      "text/plain": [
       "72960"
      ]
     },
     "execution_count": 4,
     "metadata": {},
     "output_type": "execute_result"
    }
   ],
   "source": [
    "#this uploads all the .txt files we have for a certain source parameter\n",
    "\n",
    "\n",
    "path = \"/Users/kellygarcia/Google Drive/Test/Text Files/2.4kW 2.0mT/\"\n",
    "dirs = os.listdir(path)\n",
    "wavelength = []\n",
    "intensity = []\n",
    "current = []\n",
    "magnetic_field = []\n",
    "for filename in dirs:\n",
    "    print filename\n",
    "    reader = csv.reader(open(path + filename, 'r'), delimiter='\\n')\n",
    "    result = np.array(list(reader))\n",
    "    for i in range(0,len(result)):\n",
    "        p = result[i]\n",
    "        dat = p[0].split()\n",
    "        w = float(dat[0])\n",
    "        i = float(dat[1])\n",
    "        c = float(dat[2])\n",
    "        m = float(dat[3])\n",
    "        wavelength.append(w)\n",
    "        intensity.append(i)\n",
    "        current.append(c)\n",
    "        magnetic_field.append(m)\n",
    "                \n",
    "len(wavelength)\n",
    "# we have assigned all the appropriate elements in a designated list\n"
   ]
  },
  {
   "cell_type": "code",
   "execution_count": null,
   "metadata": {
    "collapsed": true
   },
   "outputs": [],
   "source": []
  },
  {
   "cell_type": "code",
   "execution_count": 8,
   "metadata": {
    "collapsed": false
   },
   "outputs": [
    {
     "name": "stdout",
     "output_type": "stream",
     "text": [
      "20 20 20\n"
     ]
    }
   ],
   "source": [
    "#we want to make the lists made above into nested lists where this list's new elements are lists of 3648 elements\n",
    "\n",
    "new_wavelength = [wavelength[i:i+3648] for i in range(0, len(wavelength), 3648)]\n",
    "new_intensity = [intensity[i:i+3648] for i in range(0,len(intensity), 3648)]\n",
    "new_b = [magnetic_field[i:i+3648] for i in range(0,len(magnetic_field), 3648)]\n",
    "new_c = [current[i:i+3648] for i in range(0,len(current), 3648)]\n",
    "\n",
    "print len(new_wavelength), len(new_intensity), len(new_b)\n",
    "#this is the number of lists with 3648 elements"
   ]
  },
  {
   "cell_type": "code",
   "execution_count": 24,
   "metadata": {
    "collapsed": false
   },
   "outputs": [
    {
     "data": {
      "text/plain": [
       "331.26"
      ]
     },
     "execution_count": 24,
     "metadata": {},
     "output_type": "execute_result"
    }
   ],
   "source": [
    "wavelength[1]"
   ]
  },
  {
   "cell_type": "code",
   "execution_count": 6,
   "metadata": {
    "collapsed": false
   },
   "outputs": [
    {
     "data": {
      "text/plain": [
       "(20,\n",
       " [1216.0,\n",
       "  1246.15,\n",
       "  1276.3,\n",
       "  1306.45,\n",
       "  1336.6,\n",
       "  1366.75,\n",
       "  1396.9,\n",
       "  1427.05,\n",
       "  1457.2,\n",
       "  1487.35,\n",
       "  1487.35,\n",
       "  1457.2,\n",
       "  1427.05,\n",
       "  1396.9,\n",
       "  1366.75,\n",
       "  1336.6,\n",
       "  1306.45,\n",
       "  1276.3,\n",
       "  1246.15,\n",
       "  1216.0],\n",
       " [400.0,\n",
       "  410.0,\n",
       "  420.0,\n",
       "  430.0,\n",
       "  440.0,\n",
       "  450.0,\n",
       "  460.0,\n",
       "  470.0,\n",
       "  480.0,\n",
       "  490.0,\n",
       "  490.0,\n",
       "  480.0,\n",
       "  470.0,\n",
       "  460.0,\n",
       "  450.0,\n",
       "  440.0,\n",
       "  430.0,\n",
       "  420.0,\n",
       "  410.0,\n",
       "  400.0])"
      ]
     },
     "execution_count": 6,
     "metadata": {},
     "output_type": "execute_result"
    }
   ],
   "source": [
    "#this is a check to confirm that the i-th element in each new_b or new_c nested list is the expected successive\n",
    "#magnetic field and current\n",
    "\n",
    "ew = []\n",
    "ew1 = []\n",
    "for i in range(0, len(new_b)):\n",
    "    a = new_b[i][4]\n",
    "    b = new_c[i][1]\n",
    "    ew.append(a)\n",
    "    ew1.append(b)\n",
    "len(ew), ew, ew1\n",
    "\n",
    "#This is essentially a list telling us what magnetic field/current scan we did for this source parameter"
   ]
  },
  {
   "cell_type": "code",
   "execution_count": 38,
   "metadata": {
    "collapsed": false
   },
   "outputs": [
    {
     "data": {
      "text/plain": [
       "929.6"
      ]
     },
     "execution_count": 38,
     "metadata": {},
     "output_type": "execute_result"
    }
   ],
   "source": [
    "#new_wavelength[1].index(331.26)\n",
    "new_wavelength[1][3050]"
   ]
  },
  {
   "cell_type": "code",
   "execution_count": 41,
   "metadata": {
    "collapsed": false
   },
   "outputs": [],
   "source": [
    "#let's integrate over the wavelength to get the total light intensity emission (this is what our eyes do!)\n",
    "#let's try with a for loop!\n",
    "\n",
    "import scipy.integrate as integrate #thought we needed this but I didn't use it- feel free to use it in your code :)\n",
    "\n",
    "#in this example we only have port 3, however, sometimes we have multiple data sets at different ports- hence why\n",
    "#there is an ion_1 and neu_1 lists since I last had data from port 1 at a different source parameter\n",
    "\n",
    "\n",
    "ion_1 = []\n",
    "neu_1 = []\n",
    "\n",
    "ion_3 = []\n",
    "neu_3 = []\n",
    "\n",
    "for i in range(0, len(new_wavelength)):\n",
    "    x = new_wavelength[i]\n",
    "    y = new_intensity[i]\n",
    "    ion = np.trapz(y[85:1025],x[85:1025]) #ions blue; bounds: 350.19nm and 550.61nm\n",
    "    neu = np.trapz(y[1550:3050],x[1550:3050]) #neutrals pink/orange; bounds: 654.59nm and 929.6nm\n",
    "    ion_3.append(ion)\n",
    "    neu_3.append(neu)\n",
    "    \n",
    "#this loop takes the i-th list and integrates over the specified wavelengths for ions and neutrals.\n",
    "#the value that we get is an integrated intensity over those values and the resulting list we have\n",
    "#is the range of i in the for loop"
   ]
  },
  {
   "cell_type": "code",
   "execution_count": 73,
   "metadata": {
    "collapsed": false
   },
   "outputs": [
    {
     "data": {
      "text/plain": [
       "([],\n",
       " [334676.13839999912,\n",
       "  325597.42629999912,\n",
       "  317581.71139999921,\n",
       "  295264.75929999922,\n",
       "  278089.46469999931,\n",
       "  121996.5280499998,\n",
       "  126837.78514999981,\n",
       "  130693.93664999976,\n",
       "  128129.51799999976,\n",
       "  123738.5907999998,\n",
       "  123055.7231499998,\n",
       "  120464.39134999982,\n",
       "  117868.17199999985,\n",
       "  116962.24664999983,\n",
       "  119938.23884999979,\n",
       "  279864.1463499993,\n",
       "  295316.21149999922,\n",
       "  303047.30829999922,\n",
       "  315017.17199999921,\n",
       "  325277.1287499991],\n",
       " [],\n",
       " [312666.02865000034,\n",
       "  311684.7168000004,\n",
       "  310961.97065000038,\n",
       "  308246.96745000035,\n",
       "  303958.73450000043,\n",
       "  224077.8996000003,\n",
       "  227683.09070000026,\n",
       "  228505.22500000024,\n",
       "  223901.49090000027,\n",
       "  219408.43730000028,\n",
       "  218950.03580000025,\n",
       "  219931.93875000023,\n",
       "  222519.17585000026,\n",
       "  222685.12880000027,\n",
       "  223890.01660000029,\n",
       "  306275.15260000038,\n",
       "  310927.02005000034,\n",
       "  312800.79260000039,\n",
       "  316355.81190000044,\n",
       "  318714.39570000034])"
      ]
     },
     "execution_count": 73,
     "metadata": {},
     "output_type": "execute_result"
    }
   ],
   "source": [
    "ion_1, ion_3, neu_1, neu_3\n",
    "\n",
    "#we expect that the integrated intensity is larger than the raw intensities collected and this is confirmed below:"
   ]
  },
  {
   "cell_type": "code",
   "execution_count": 78,
   "metadata": {
    "collapsed": false
   },
   "outputs": [],
   "source": [
    "#Now let's normalize! In this method, I will take the maximum value in each data set and divide all numbers by the max\n",
    "#Normalization allows us to better compare the relative amounts of ions to neutrals in the plots below.\n",
    "#The new lists that are produced are scaled from 0 to 1 from this division.\n",
    "\n",
    "pt = [3]\n",
    "norm_ionf = []\n",
    "norm_neuf = []\n",
    "norm_ionr = []\n",
    "norm_neur = []\n",
    "for i in pt:\n",
    "    ionn = 'ion_'+str(i)\n",
    "    nneu = 'neu_'+str(i)\n",
    "    imaxf = max(eval(ionn)[:len(ew)/2])\n",
    "    imaxr = max(eval(ionn)[len(ew)/2:])\n",
    "    nmaxf = max(eval(nneu)[:len(ew)/2])\n",
    "    nmaxr = max(eval(nneu)[len(ew)/2:])\n",
    "    for i in range(0,len(ew)/2):\n",
    "        norm_ionf.append(eval(ionn)[:len(ew)/2][i]/imaxf)\n",
    "        norm_neuf.append(eval(nneu)[:len(ew)/2][i]/nmaxf)\n",
    "        norm_ionr.append(eval(ionn)[len(ew)/2:][i]/imaxr)\n",
    "        norm_neur.append(eval(nneu)[len(ew)/2:][i]/nmaxr)"
   ]
  },
  {
   "cell_type": "code",
   "execution_count": 85,
   "metadata": {
    "collapsed": false
   },
   "outputs": [
    {
     "data": {
      "text/plain": [
       "([1.0,\n",
       "  0.97287314194730767,\n",
       "  0.94892248045610905,\n",
       "  0.88224024787540689,\n",
       "  0.83092109891512966,\n",
       "  0.36452114164228722,\n",
       "  0.37898663990919329,\n",
       "  0.39050867885237944,\n",
       "  0.38284629018535399,\n",
       "  0.36972636110707596],\n",
       " [0.68697880846930315,\n",
       "  0.69005963243975299,\n",
       "  0.69817736146268472,\n",
       "  0.69869805633006121,\n",
       "  0.70247851876368839,\n",
       "  0.9609705640290287,\n",
       "  0.97556628832878289,\n",
       "  0.98144544714708681,\n",
       "  0.99259969479941534,\n",
       "  1.0])"
      ]
     },
     "execution_count": 85,
     "metadata": {},
     "output_type": "execute_result"
    }
   ],
   "source": [
    "norm_ionf, norm_neur"
   ]
  },
  {
   "cell_type": "code",
   "execution_count": 126,
   "metadata": {
    "collapsed": false
   },
   "outputs": [
    {
     "name": "stdout",
     "output_type": "stream",
     "text": [
      "done\n"
     ]
    },
    {
     "data": {
      "image/png": "[encoded data removed]",
      "text/plain": [
       "<matplotlib.figure.Figure at 0x11a878310>"
      ]
     },
     "metadata": {},
     "output_type": "display_data"
    }
   ],
   "source": [
    "#to make the interesting plot below, we use a special module called subplots\n",
    "#for aesthetic purposes, I want the plots to share the y-axis... here we go!\n",
    "\n",
    "#here are the 4 different subplots we must assign to a position and alter their sizes\n",
    "fg, ((ax1,ax2), (ax3,ax4)) = plt.subplots(2, 2, sharex='col', sharey='row', figsize=(15,7) )\n",
    "\n",
    "#ax1 is left-top, ax2 is right-top, ax3 is left-bottom, and ax-4 is right-bottom\n",
    "\n",
    "#for ax1 and ax3, I want to show the forward transition... going through the previous lists you will see\n",
    "#that this means I have to use the first half of the list. This is only applicable for the lists we did NOT \n",
    "#separate earlier between forward and reverse (we did this only when normalizing). Notice that I simply re-used \n",
    "#the ew lists out of convenience to get our x-axis\n",
    "\n",
    "#for ax2 and ax4, I will show the reverse transition... this means I need the 2nd half of the list. Accordingly, \n",
    "#I indexed what I wanted. Please read through the code below and try to understand and even play around with \n",
    "#how to call the data we want. This code again is tentative and is subject to change depending on the source\n",
    "#parameter used since we sometimes use multiple ports but in this example we use only port 3\n",
    "\n",
    "\n",
    "#ax1.plot(ew[0:],neu_1,'-o',color='b',label='Neutral Port1 8-19')\n",
    "ax1.plot(ew[:len(ew)/2],neu_3[:len(ew)/2],'-o',color='g',label='Neutral Port3 '+ filename[38:43])\n",
    "#ax1.plot(ew[0:len(ew)/5],ion_1,'-o', color='purple', label='Ion Port1 8-19')\n",
    "ax1.plot(ew[:len(ew)/2],ion_3[:len(ew)/2],'-o', color='red', label='Ion Port3 ' + filename[38:43])\n",
    "ax1.set_ylabel('Integrated Intensity (Arb. Units)')\n",
    "#ax1.legend()\n",
    "#ax1.set_title(s_title)\n",
    "ax1.set_title(filename[6:25] + 'Forward')\n",
    "\n",
    "\n",
    "ax3.plot(ew[len(ew)/2:][::-1],norm_neuf,'-o',color='g',label='Neutral Port3 ' + filename[38:43])\n",
    "#ax2.plot(ew[0:len(ew)/5]::-1,norm_ion[0:len(ew)/5],'-o', color='purple', label='Ion Port1 8-19')\n",
    "ax3.plot(ew[len(ew)/2:][::-1],norm_ionf,'-o', color='red', label='Ion Port3 ' + filename[38:43])\n",
    "#ax3.legend() \n",
    "ax3.set_ylabel('Normalized Integrated Intensity')\n",
    "ax3.set_xlabel('Magnetic Field (Gauss)')\n",
    "\n",
    "ax2.plot(ew[len(ew)/2:],neu_3[len(ew)/2:],'-o',color='g',label='Neutral Port3 '+ filename[38:43])\n",
    "ax2.plot(ew[len(ew)/2:],ion_3[len(ew)/2:],'-o', color='red', label='Ion Port3 ' + filename[38:43])\n",
    "#ax3.set_ylabel('Integrated Intensity (Arb. Units)')\n",
    "ax2.legend()\n",
    "ax2.set_title(filename[6:25] + 'Reverse')\n",
    "\n",
    "ax4.plot(ew[len(ew)/2:],norm_neur,'-o',color='g',label='Neutral Port3 ' + filename[38:43])\n",
    "ax4.plot(ew[len(ew)/2:],norm_ionr,'-o', color='red', label='Ion Port3 ' + filename[38:43])\n",
    "#ax4.legend() \n",
    "ax4.set_xlabel('Magnetic Field (Gauss)')\n",
    "\n",
    "plt.savefig('/Users/kellygarcia/Google Drive/Test/' + filename[6:25]  + ' Integrated Intensity.png')\n",
    "print 'done'"
   ]
  },
  {
   "cell_type": "markdown",
   "metadata": {},
   "source": [
    "# "
   ]
  },
  {
   "cell_type": "code",
   "execution_count": null,
   "metadata": {
    "collapsed": false
   },
   "outputs": [],
   "source": []
  },
  {
   "cell_type": "code",
   "execution_count": null,
   "metadata": {
    "collapsed": true
   },
   "outputs": [],
   "source": []
  },
  {
   "cell_type": "code",
   "execution_count": null,
   "metadata": {
    "collapsed": false
   },
   "outputs": [],
   "source": []
  },
  {
   "cell_type": "code",
   "execution_count": null,
   "metadata": {
    "collapsed": true
   },
   "outputs": [],
   "source": []
  },
  {
   "cell_type": "code",
   "execution_count": null,
   "metadata": {
    "collapsed": true
   },
   "outputs": [],
   "source": []
  },
  {
   "cell_type": "code",
   "execution_count": null,
   "metadata": {
    "collapsed": true
   },
   "outputs": [],
   "source": []
  },
  {
   "cell_type": "code",
   "execution_count": null,
   "metadata": {
    "collapsed": true
   },
   "outputs": [],
   "source": []
  },
  {
   "cell_type": "code",
   "execution_count": null,
   "metadata": {
    "collapsed": true
   },
   "outputs": [],
   "source": []
  },
  {
   "cell_type": "code",
   "execution_count": null,
   "metadata": {
    "collapsed": true
   },
   "outputs": [],
   "source": []
  },
  {
   "cell_type": "code",
   "execution_count": null,
   "metadata": {
    "collapsed": true
   },
   "outputs": [],
   "source": []
  },
  {
   "cell_type": "code",
   "execution_count": null,
   "metadata": {
    "collapsed": true
   },
   "outputs": [],
   "source": []
  },
  {
   "cell_type": "code",
   "execution_count": 51,
   "metadata": {
    "collapsed": false
   },
   "outputs": [],
   "source": []
  },
  {
   "cell_type": "code",
   "execution_count": null,
   "metadata": {
    "collapsed": false
   },
   "outputs": [],
   "source": []
  },
  {
   "cell_type": "code",
   "execution_count": null,
   "metadata": {
    "collapsed": false
   },
   "outputs": [],
   "source": []
  },
  {
   "cell_type": "code",
   "execution_count": null,
   "metadata": {
    "collapsed": true
   },
   "outputs": [],
   "source": []
  },
  {
   "cell_type": "code",
   "execution_count": null,
   "metadata": {
    "collapsed": true
   },
   "outputs": [],
   "source": []
  },
  {
   "cell_type": "code",
   "execution_count": null,
   "metadata": {
    "collapsed": true
   },
   "outputs": [],
   "source": []
  },
  {
   "cell_type": "code",
   "execution_count": null,
   "metadata": {
    "collapsed": true
   },
   "outputs": [],
   "source": []
  },
  {
   "cell_type": "code",
   "execution_count": 68,
   "metadata": {
    "collapsed": false
   },
   "outputs": [],
   "source": []
  },
  {
   "cell_type": "code",
   "execution_count": null,
   "metadata": {
    "collapsed": false
   },
   "outputs": [],
   "source": []
  },
  {
   "cell_type": "code",
   "execution_count": 345,
   "metadata": {
    "collapsed": false
   },
   "outputs": [],
   "source": []
  },
  {
   "cell_type": "code",
   "execution_count": null,
   "metadata": {
    "collapsed": false
   },
   "outputs": [],
   "source": []
  },
  {
   "cell_type": "code",
   "execution_count": null,
   "metadata": {
    "collapsed": false
   },
   "outputs": [],
   "source": []
  },
  {
   "cell_type": "code",
   "execution_count": null,
   "metadata": {
    "collapsed": false
   },
   "outputs": [],
   "source": [
    "\n"
   ]
  },
  {
   "cell_type": "code",
   "execution_count": null,
   "metadata": {
    "collapsed": false
   },
   "outputs": [],
   "source": []
  },
  {
   "cell_type": "code",
   "execution_count": null,
   "metadata": {
    "collapsed": false
   },
   "outputs": [],
   "source": []
  },
  {
   "cell_type": "code",
   "execution_count": null,
   "metadata": {
    "collapsed": true
   },
   "outputs": [],
   "source": []
  },
  {
   "cell_type": "code",
   "execution_count": null,
   "metadata": {
    "collapsed": false
   },
   "outputs": [],
   "source": []
  },
  {
   "cell_type": "code",
   "execution_count": null,
   "metadata": {
    "collapsed": true
   },
   "outputs": [],
   "source": []
  },
  {
   "cell_type": "code",
   "execution_count": null,
   "metadata": {
    "collapsed": true
   },
   "outputs": [],
   "source": []
  },
  {
   "cell_type": "code",
   "execution_count": null,
   "metadata": {
    "collapsed": true
   },
   "outputs": [],
   "source": []
  },
  {
   "cell_type": "code",
   "execution_count": 16,
   "metadata": {
    "collapsed": true
   },
   "outputs": [],
   "source": []
  },
  {
   "cell_type": "code",
   "execution_count": null,
   "metadata": {
    "collapsed": false
   },
   "outputs": [],
   "source": []
  },
  {
   "cell_type": "code",
   "execution_count": null,
   "metadata": {
    "collapsed": false
   },
   "outputs": [],
   "source": []
  },
  {
   "cell_type": "code",
   "execution_count": null,
   "metadata": {
    "collapsed": false
   },
   "outputs": [],
   "source": []
  },
  {
   "cell_type": "code",
   "execution_count": 129,
   "metadata": {
    "collapsed": false
   },
   "outputs": [],
   "source": [
    "\n",
    "#trapezoidal uses straight lines --> result is approximate\n",
    "#simpson's rule uses parabolic --> result is accurate"
   ]
  },
  {
   "cell_type": "code",
   "execution_count": null,
   "metadata": {
    "collapsed": false
   },
   "outputs": [],
   "source": []
  },
  {
   "cell_type": "code",
   "execution_count": null,
   "metadata": {
    "collapsed": false
   },
   "outputs": [],
   "source": []
  },
  {
   "cell_type": "code",
   "execution_count": null,
   "metadata": {
    "collapsed": false
   },
   "outputs": [],
   "source": []
  },
  {
   "cell_type": "code",
   "execution_count": null,
   "metadata": {
    "collapsed": false
   },
   "outputs": [],
   "source": []
  },
  {
   "cell_type": "code",
   "execution_count": null,
   "metadata": {
    "collapsed": false
   },
   "outputs": [],
   "source": []
  },
  {
   "cell_type": "code",
   "execution_count": null,
   "metadata": {
    "collapsed": false
   },
   "outputs": [],
   "source": []
  },
  {
   "cell_type": "code",
   "execution_count": null,
   "metadata": {
    "collapsed": false
   },
   "outputs": [],
   "source": []
  },
  {
   "cell_type": "code",
   "execution_count": null,
   "metadata": {
    "collapsed": true
   },
   "outputs": [],
   "source": []
  }
 ],
 "metadata": {
  "kernelspec": {
   "display_name": "Python 2",
   "language": "python",
   "name": "python2"
  },
  "language_info": {
   "codemirror_mode": {
    "name": "ipython",
    "version": 2
   },
   "file_extension": ".py",
   "mimetype": "text/x-python",
   "name": "python",
   "nbconvert_exporter": "python",
   "pygments_lexer": "ipython2",
   "version": "2.7.13"
  }
 },
 "nbformat": 4,
 "nbformat_minor": 2
}
