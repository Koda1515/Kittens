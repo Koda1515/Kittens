{
 "cells": [
  {
   "cell_type": "code",
   "execution_count": 1,
   "metadata": {
    "collapsed": true
   },
   "outputs": [],
   "source": [
    "import matplotlib\n",
    "import matplotlib.pyplot as plt\n",
    "%matplotlib inline\n",
    "import os.path \n",
    "from os import listdir\n",
    "import os, sys"
   ]
  },
  {
   "cell_type": "code",
   "execution_count": 2,
   "metadata": {
    "collapsed": false,
    "scrolled": true
   },
   "outputs": [
    {
     "name": "stderr",
     "output_type": "stream",
     "text": [
      "/Users/kellygarcia/anaconda/lib/python2.7/site-packages/IPython/html.py:14: ShimWarning: The `IPython.html` package has been deprecated. You should import from `notebook` instead. `IPython.html.widgets` has moved to `ipywidgets`.\n",
      "  \"`IPython.html.widgets` has moved to `ipywidgets`.\", ShimWarning)\n"
     ]
    }
   ],
   "source": [
    "from IPython.core.display import HTML\n",
    "from IPython.core.pylabtools import figsize\n",
    "from ipywidgets import interact, interactive, fixed\n",
    "from IPython.display import clear_output, display, HTML\n",
    "from IPython.html import widgets\n",
    "from PIL import Image"
   ]
  },
  {
   "cell_type": "code",
   "execution_count": 3,
   "metadata": {
    "collapsed": true
   },
   "outputs": [],
   "source": [
    "import numpy as np\n",
    "import math as m\n",
    "import csv\n",
    "#import plotly.plotly as py\n",
    "#import plotly.graph_objs as go"
   ]
  },
  {
   "cell_type": "code",
   "execution_count": 173,
   "metadata": {
    "collapsed": false
   },
   "outputs": [
    {
     "name": "stdout",
     "output_type": "stream",
     "text": [
      "Port1 1.2kW 25sccm 4.0mT Forward 2017-08-19 no avg.txt\n",
      "Port1 1.2kW 25sccm 4.0mT Reverse 2017-08-19 no avg.txt\n",
      "Port3 1.2kW 25sccm 4.0mT Forward 2017-08-22 no avg.txt\n",
      "Port3 1.2kW 25sccm 4.0mT Reverse 2017-08-22 no avg.txt\n"
     ]
    },
    {
     "data": {
      "text/plain": [
       "145920"
      ]
     },
     "execution_count": 173,
     "metadata": {},
     "output_type": "execute_result"
    }
   ],
   "source": [
    "path = \"/Users/kellygarcia/Google Drive/Test/Text Files/1.2kW 4.0mT/\"\n",
    "dirs = os.listdir(path)\n",
    "wavelength = []\n",
    "intensity = []\n",
    "current = []\n",
    "magnetic_field = []\n",
    "for filename in dirs:\n",
    "    if filename.endswith('avg.txt'):\n",
    "        print filename\n",
    "        reader = csv.reader(open(path + filename, 'r'), delimiter='\\n')\n",
    "        result = np.array(list(reader))\n",
    "        for i in range(0,len(result)):\n",
    "            p = result[i]\n",
    "            dat = p[0].split()\n",
    "            w = float(dat[0])\n",
    "            i = float(dat[1])\n",
    "            c = float(dat[2])\n",
    "            m = float(dat[3])\n",
    "            wavelength.append(w)\n",
    "            intensity.append(i)\n",
    "            current.append(c)\n",
    "            magnetic_field.append(m)\n",
    "                \n",
    "len(wavelength)\n",
    "\n",
    "#we have uploaded the files and see that here, there are 4 files (others may only have 2 at a single port- that's okay)"
   ]
  },
  {
   "cell_type": "code",
   "execution_count": 174,
   "metadata": {
    "collapsed": true
   },
   "outputs": [],
   "source": [
    "new_c = [current[i:i+3648] for i in range(0, len(intensity), 3648)]\n",
    "\n",
    "#creating a nested list for the current"
   ]
  },
  {
   "cell_type": "code",
   "execution_count": 192,
   "metadata": {
    "collapsed": false
   },
   "outputs": [
    {
     "data": {
      "text/plain": [
       "([9, 29], 2)"
      ]
     },
     "execution_count": 192,
     "metadata": {},
     "output_type": "execute_result"
    }
   ],
   "source": [
    "#since all the current values are stored in a single list, now let's check how the list is divided by the\n",
    "#different files\n",
    "ew = []\n",
    "ew1 = []\n",
    "for i in range(0,len(new_c)):\n",
    "    ew.append(new_c[i][1] - new_c[i-1][1])\n",
    "for i in range(0,len(new_c)):\n",
    "    if ew[i] == 0:\n",
    "        ew1.append(i)\n",
    "ew1, len(ew1)\n",
    "\n",
    "#the indices below are where a new file or scan begins in the order appearing after line 173 above"
   ]
  },
  {
   "cell_type": "code",
   "execution_count": 176,
   "metadata": {
    "collapsed": false
   },
   "outputs": [
    {
     "data": {
      "text/plain": [
       "[230.0, 220.0, 210.0, 200.0, 190.0, 180.0, 170.0, 160.0, 150.0, 140.0, 130.0]"
      ]
     },
     "execution_count": 176,
     "metadata": {},
     "output_type": "execute_result"
    }
   ],
   "source": [
    "#this was a check to confirm that the stored variables above had the correct current \n",
    "ap = []\n",
    "for i in range(0, len(cf3)):\n",
    "    ap.append(cr3[i][1])\n",
    "ap"
   ]
  },
  {
   "cell_type": "code",
   "execution_count": 200,
   "metadata": {
    "collapsed": false
   },
   "outputs": [
    {
     "data": {
      "text/plain": [
       "(40,\n",
       " [582.85,\n",
       "  613.0,\n",
       "  643.15,\n",
       "  673.3,\n",
       "  703.45,\n",
       "  733.6,\n",
       "  763.75,\n",
       "  793.9,\n",
       "  824.05,\n",
       "  824.05,\n",
       "  793.9,\n",
       "  763.75,\n",
       "  733.6,\n",
       "  703.45,\n",
       "  673.3,\n",
       "  643.15,\n",
       "  613.0,\n",
       "  582.85,\n",
       "  401.95,\n",
       "  432.1,\n",
       "  462.25,\n",
       "  492.4,\n",
       "  522.55,\n",
       "  552.7,\n",
       "  582.85,\n",
       "  613.0,\n",
       "  643.15,\n",
       "  673.3,\n",
       "  703.45,\n",
       "  703.45,\n",
       "  673.3,\n",
       "  643.15,\n",
       "  613.0,\n",
       "  582.85,\n",
       "  552.7,\n",
       "  522.55,\n",
       "  492.4,\n",
       "  462.25,\n",
       "  432.1,\n",
       "  401.95])"
      ]
     },
     "execution_count": 200,
     "metadata": {},
     "output_type": "execute_result"
    }
   ],
   "source": [
    "#434.94nm for ions and 811.14nm for neutrals\n",
    "pick_wl = 434.94 #<---- this is where we pick our wavelength!\n",
    "#we want all the indices of where this line appears in our data, so let's find them!\n",
    "indices = [i for i, x in enumerate(wavelength) if x==pick_wl]\n",
    "\n",
    "p_i = []\n",
    "p_b = []\n",
    "\n",
    "#once we do this, now we want a simple list of the actual values AT those indices and the B-field is printed below\n",
    "for i in indices:\n",
    "    p = intensity[i]\n",
    "    b = magnetic_field[i]\n",
    "    p_i.append(p)   \n",
    "    p_b.append(b)\n",
    "len(p_b), p_b"
   ]
  },
  {
   "cell_type": "code",
   "execution_count": 201,
   "metadata": {
    "collapsed": true
   },
   "outputs": [],
   "source": [
    "#from the 'ew' list above, i will split the intensity and b-field values into forward and reverse below\n",
    "#read through the indexing to see what we are doing here\n",
    "\n",
    "if1 = p_i[0:ew1[0]]\n",
    "ir1 = p_i[ew1[0]:ew1[0]*2]\n",
    "#if2 = p_i[:]\n",
    "#ir2 = p_i[:]\n",
    "if3 = p_i[ew1[0]*2:ew1[1]]\n",
    "ir3 = p_i[ew1[1]::]\n",
    "\n",
    "bf1 = p_b[0:ew1[0]]\n",
    "br1 = p_b[ew1[0]:ew1[0]*2]\n",
    "#bf2 = p_b[:]\n",
    "#br2 = p_b[:]\n",
    "bf3 = p_b[ew1[0]*2:ew1[1]]\n",
    "br3 = p_b[ew1[1]::]"
   ]
  },
  {
   "cell_type": "code",
   "execution_count": 202,
   "metadata": {
    "collapsed": false
   },
   "outputs": [
    {
     "data": {
      "text/plain": [
       "(11, 9)"
      ]
     },
     "execution_count": 202,
     "metadata": {},
     "output_type": "execute_result"
    }
   ],
   "source": [
    "len(br3), len(br1) #these values maybe different depending on the B-field scan we did that day- also okay :)"
   ]
  },
  {
   "cell_type": "code",
   "execution_count": 203,
   "metadata": {
    "collapsed": false
   },
   "outputs": [
    {
     "data": {
      "text/plain": [
       "40"
      ]
     },
     "execution_count": 203,
     "metadata": {},
     "output_type": "execute_result"
    }
   ],
   "source": [
    "#now we normalize by dividing by the maximum value with respect to each forward and reverse parameter\n",
    "\n",
    "norm_if = []\n",
    "norm_ir = []\n",
    "pt = [1,3]\n",
    "for i in pt:\n",
    "    g = eval('if' + str(i))\n",
    "    h = eval('ir' + str(i))\n",
    "    imaxf = max(g)\n",
    "    imaxr = max(h)\n",
    "    for i in range(0,len(g)):\n",
    "        norm_if.append(g[i]/imaxf)\n",
    "        norm_ir.append(h[i]/imaxr)\n",
    "len(norm_if) + len(norm_ir)"
   ]
  },
  {
   "cell_type": "code",
   "execution_count": 204,
   "metadata": {
    "collapsed": false
   },
   "outputs": [],
   "source": [
    "#again, let's split it by forward and reverse in addition to parameter\n",
    "\n",
    "inf1 = norm_if[0:ew1[0]]\n",
    "inr1 = norm_ir[0:ew1[0]]\n",
    "#if2 = p_i[:]\n",
    "#ir2 = p_i[:]\n",
    "inf3 = norm_if[ew1[0]::]\n",
    "inr3 = norm_ir[ew1[0]::]\n",
    "\n"
   ]
  },
  {
   "cell_type": "code",
   "execution_count": 205,
   "metadata": {
    "collapsed": false
   },
   "outputs": [
    {
     "name": "stdout",
     "output_type": "stream",
     "text": [
      "done\n"
     ]
    },
    {
     "data": {
      "image/png": "[encoded data removed]",
      "text/plain": [
       "<matplotlib.figure.Figure at 0x112cf93d0>"
      ]
     },
     "metadata": {},
     "output_type": "display_data"
    }
   ],
   "source": [
    "#Let's plot it!\n",
    "\n",
    "#As you can see, I was lazy and copy and pasted some of the code I had written in a previous program comparing\n",
    "#the neutrals and ions at a single port-- again, these plots here are meant to compare a single wavelength at\n",
    "#multiple ports!\n",
    "\n",
    "#Please feel free to make edits here and ask questions regarding what we are plotting here and how we got it.\n",
    "\n",
    "fg, ((ax1,ax2), (ax3,ax4)) = plt.subplots(2, 2, sharex='col', sharey='row', figsize=(15,7) )\n",
    "\n",
    "ax1.plot(bf1,if1,'-o',color='g',label= 'Port1 '+ filename[38:43])\n",
    "ax1.plot(bf3,if3,'-o', color='b', label='Port3 ' + filename[38:43])\n",
    "ax1.set_ylabel('Intensity (Arb. Units)')\n",
    "ax1.set_title(filename[6:25] + 'Forward')\n",
    "\n",
    "\n",
    "ax3.plot(bf1,inf1,'-o',color='g',label='Port1 ' + filename[38:43])\n",
    "ax3.plot(bf3,inf3,'-o', color='b', label='Port3 ' + filename[38:43])\n",
    "#ax3.legend() \n",
    "ax3.set_ylabel('Normalized Intensity')\n",
    "ax3.set_xlabel('Magnetic Field (Gauss)')\n",
    "\n",
    "ax2.plot(br1,ir1,'-o',color='g',label='Port1 8-19')\n",
    "ax2.plot(br3,ir3,'-o', color='b', label='Port3 ' + filename[38:43])\n",
    "#ax3.set_ylabel('Integrated Intensity (Arb. Units)')\n",
    "ax2.legend()\n",
    "ax2.set_title(filename[6:25] + 'Reverse')\n",
    "\n",
    "ax4.plot(br1,inr1,'-o',color='g',label='Neutral Port3 ' + filename[38:43])\n",
    "ax4.plot(br3,inr3,'-o', color='b', label='Ion Port3 ' + filename[38:43])\n",
    "#ax4.legend() \n",
    "ax4.set_xlabel('Magnetic Field (Gauss)')\n",
    "\n",
    "plt.savefig('/Users/kellygarcia/Google Drive/Test/' + filename[6:25]  + str(pick_wl) + 'nm Intensity.png')\n",
    "print 'done'"
   ]
  },
  {
   "cell_type": "code",
   "execution_count": null,
   "metadata": {
    "collapsed": false
   },
   "outputs": [],
   "source": [
    "#Notice: At this parameter, the hysteresis is also not so evident (that is okay). In addition, the ion light\n",
    "#is more intense at port 1 than at port 3. Check to see if the same can be said about the neutral light emission.\n",
    "\n",
    "#This plot also is NOT integrated light intensity- using the other github program, please integrate the light\n",
    "#emission data and compare the not integrated plots with those that are integrated."
   ]
  },
  {
   "cell_type": "code",
   "execution_count": null,
   "metadata": {
    "collapsed": true
   },
   "outputs": [],
   "source": []
  }
 ],
 "metadata": {
  "kernelspec": {
   "display_name": "Python 2",
   "language": "python",
   "name": "python2"
  },
  "language_info": {
   "codemirror_mode": {
    "name": "ipython",
    "version": 2
   },
   "file_extension": ".py",
   "mimetype": "text/x-python",
   "name": "python",
   "nbconvert_exporter": "python",
   "pygments_lexer": "ipython2",
   "version": "2.7.13"
  }
 },
 "nbformat": 4,
 "nbformat_minor": 2
}
