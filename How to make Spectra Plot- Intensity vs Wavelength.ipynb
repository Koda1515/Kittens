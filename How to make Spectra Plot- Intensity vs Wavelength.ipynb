{
 "cells": [
  {
   "cell_type": "code",
   "execution_count": 1,
   "metadata": {
    "collapsed": true
   },
   "outputs": [],
   "source": [
    "import matplotlib\n",
    "import matplotlib.pyplot as plt\n",
    "%matplotlib inline\n",
    "import os.path \n",
    "from os import listdir\n",
    "import os, sys"
   ]
  },
  {
   "cell_type": "code",
   "execution_count": 2,
   "metadata": {
    "collapsed": true
   },
   "outputs": [],
   "source": [
    "import numpy as np\n",
    "import math as m\n",
    "import csv"
   ]
  },
  {
   "cell_type": "code",
   "execution_count": null,
   "metadata": {
    "collapsed": true
   },
   "outputs": [],
   "source": [
    "#Choose a path and file to open\n",
    "f = open(\"/Users/kellygarcia/Downloads/Spectroscopy-master/Programs/Port_4/1.6kW_25sccm_3.2mT_00024.txt\", \"r\")\n",
    "reader = csv.reader(f, delimiter='\\n') #This reads the file with the delimiter between each data point (line after line)\n",
    "result = np.array(list(reader)) #This makes the read file into a list and into an array we need.\n",
    "\n",
    "wavelength = []\n",
    "intensity = []\n",
    "for i in range(17, len(result)-1): #We need the values which begin at the 17th line and end at the second to last line.\n",
    "    p = result[i] #We are indexing through 'result'\n",
    "    dat = p[0].split('\\t') #we are splitting the data points which are seperated by '\\t' and will now be in 2 columns\n",
    "    w = float(dat[0])\n",
    "    i = float(dat[1]) #we extract the data as floats since they are decimals and are taking the 0th and 1st columns\n",
    "    wavelength.append(w) \n",
    "    intensity.append(i) #we are assigning these values into a list\n",
    "\n",
    "figsize(9,5)\n",
    "x = wavelength\n",
    "y = intensity\n",
    "\n",
    "plt.xlabel('Wavelength (nm)')\n",
    "plt.ylabel('Intensity')\n",
    "plt.plot(x,y,color='b')\n",
    "t = os.path.basename(f.name) #take the \n",
    "plt.title(t)\n",
    "\n",
    "plt.savefig('/Users/kellygarcia/Downloads/Spectroscopy-master/Programs/Port_4/' + str(t[0:24]) + '.png')\n",
    "\n",
    "f.close()"
   ]
  }
 ],
 "metadata": {
  "kernelspec": {
   "display_name": "Python 2",
   "language": "python",
   "name": "python2"
  },
  "language_info": {
   "codemirror_mode": {
    "name": "ipython",
    "version": 2
   },
   "file_extension": ".py",
   "mimetype": "text/x-python",
   "name": "python",
   "nbconvert_exporter": "python",
   "pygments_lexer": "ipython2",
   "version": "2.7.13"
  }
 },
 "nbformat": 4,
 "nbformat_minor": 2
}
