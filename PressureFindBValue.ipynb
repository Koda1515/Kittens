{
 "cells": [
  {
   "cell_type": "code",
   "execution_count": 132,
   "metadata": {
    "collapsed": true
   },
   "outputs": [],
   "source": [
    "%matplotlib inline\n",
    "import csv\n",
    "#comma separated value\n",
    "import numpy as np\n",
    "import os, sys\n"
   ]
  },
  {
   "cell_type": "code",
   "execution_count": 133,
   "metadata": {},
   "outputs": [],
   "source": [
    "files = ['manual', 'video1', 'video2', 'video3']"
   ]
  },
  {
   "cell_type": "code",
   "execution_count": 134,
   "metadata": {
    "scrolled": false
   },
   "outputs": [
    {
     "name": "stdout",
     "output_type": "stream",
     "text": [
      "[1185.85, 1246.15, 1185.85, 1246.15]\n",
      "30.15\n",
      "10.0\n"
     ]
    }
   ],
   "source": [
    "\n",
    "bCrit = []\n",
    "bValue = []\n",
    "pressure = []\n",
    "diffList = []\n",
    "findBCrit = []\n",
    "\n",
    "for i in range(0,len(files)):\n",
    "    \n",
    "    f = open(\"/Users/Jannie/Documents/Kittens-master/Pressure Plots/1.6kW_2.4mTorr forward \" + str(files[i]) + \".txt\", \"r\")\n",
    "    reader = csv.reader(f, delimiter='\\n')\n",
    "    result = np.array(list(reader))\n",
    "    \n",
    "    for i in range(0, len(result)):\n",
    "        a = result[i]\n",
    "        dat = a[0].split()\n",
    "        b = float(dat[0])\n",
    "        p = float(dat[1])\n",
    "        bValue.append(b)\n",
    "        pressure.append(p) \n",
    "   \n",
    "    \n",
    "\n",
    "    for i in range(0, len(pressure)-1):\n",
    "        z = pressure[i+1] - pressure[i]\n",
    "        diffList.append( round(z,2) )\n",
    "    \n",
    "    x = diffList.index(max(diffList))\n",
    "    findBCrit.append(bValue[x])\n",
    "    bCrit = []\n",
    "    bValue = []\n",
    "    pressure = []\n",
    "    diffList = []\n",
    "\n",
    "print (findBCrit)\n",
    "sd = np.std(findBCrit)\n",
    "\n",
    "print (sd)\n",
    "print (sd/3.015)"
   ]
  },
  {
   "cell_type": "code",
   "execution_count": 135,
   "metadata": {
    "scrolled": true
   },
   "outputs": [
    {
     "name": "stdout",
     "output_type": "stream",
     "text": [
      "1057.7125\n",
      "[323.3167495854063, 333.3167495854063, 363.3167495854063, 343.3167495854063]\n",
      "14.7901994577\n",
      "44.5924513651\n",
      "14.7901994577\n"
     ]
    }
   ],
   "source": [
    "bCrit = []\n",
    "bValue = []\n",
    "pressure = []\n",
    "diffList = []\n",
    "findBCrit = []\n",
    "\n",
    "for i in range(0,len(files)):\n",
    "    \n",
    "    f = open(\"/Users/Jannie/Documents/Kittens-master/Pressure Plots/1.6kW_3.2mTorr forward \" + str(files[i]) + \".txt\", \"r\")\n",
    "    reader = csv.reader(f, delimiter='\\n')\n",
    "    result = np.array(list(reader))\n",
    "    \n",
    "    for i in range(0, len(result)):\n",
    "        a = result[i]\n",
    "        dat = a[0].split()\n",
    "        b = float(dat[0])\n",
    "        p = float(dat[1])\n",
    "        bValue.append(b)\n",
    "        pressure.append(p) \n",
    "   \n",
    "    \n",
    "\n",
    "    for i in range(0, len(pressure)-1):\n",
    "        z = pressure[i+1] - pressure[i]\n",
    "        diffList.append( round(z,2) )\n",
    "    \n",
    "    x = diffList.index(max(diffList))\n",
    "    findBCrit.append(bValue[x])\n",
    "    bCrit = []\n",
    "    bValue = []\n",
    "    pressure = []\n",
    "    diffList = []\n",
    "\n",
    "\n",
    "sd = np.std(findBCrit)\n",
    "\n",
    "print(sum(findBCrit)/4)\n",
    "\n",
    "for i in range(0, len(findBCrit)):\n",
    "    findBCrit[i] = findBCrit[i] / 3.015   - 10\n",
    "\n",
    "print (findBCrit)\n",
    "print(np.std(findBCrit))\n",
    "print (sd)\n",
    "print (sd/3.015)"
   ]
  },
  {
   "cell_type": "code",
   "execution_count": 136,
   "metadata": {},
   "outputs": [
    {
     "name": "stdout",
     "output_type": "stream",
     "text": [
      "891.8874999999999\n",
      "[914.5, 884.35, 884.35, 884.35]\n",
      "13.0553329621\n",
      "4.33012701892\n"
     ]
    }
   ],
   "source": [
    "bCrit = []\n",
    "bValue = []\n",
    "pressure = []\n",
    "diffList = []\n",
    "findBCrit = []\n",
    "\n",
    "for i in range(0,len(files)):\n",
    "    \n",
    "    f = open(\"/Users/Jannie/Documents/Kittens-master/Pressure Plots/1.6kW_3.2mTorr reverse \" + str(files[i]) + \".txt\", \"r\")\n",
    "    reader = csv.reader(f, delimiter='\\n')\n",
    "    result = np.array(list(reader))\n",
    "    \n",
    "    for i in range(0, len(result)):\n",
    "        a = result[i]\n",
    "        dat = a[0].split()\n",
    "        b = float(dat[0])\n",
    "        p = float(dat[1])\n",
    "        bValue.append(b)\n",
    "        pressure.append(p) \n",
    "   \n",
    "    \n",
    "\n",
    "    for i in range(0, len(pressure)-1):\n",
    "        z = pressure[i+1] - pressure[i]\n",
    "        diffList.append( round(z,2) )\n",
    "    \n",
    "    x = diffList.index(max(diffList))\n",
    "    findBCrit.append(bValue[x])\n",
    "    bCrit = []\n",
    "    bValue = []\n",
    "    pressure = []\n",
    "    diffList = []\n",
    "\n",
    "\n",
    "sd = np.std(findBCrit)\n",
    "\n",
    "print(sum(findBCrit)/4)\n",
    "print (findBCrit)\n",
    "print (sd)\n",
    "print (sd/3.015)"
   ]
  },
  {
   "cell_type": "code",
   "execution_count": 137,
   "metadata": {},
   "outputs": [
    {
     "name": "stdout",
     "output_type": "stream",
     "text": [
      "1185.85\n",
      "[1185.85, 1185.85, 1185.85, 1185.85]\n",
      "0.0\n",
      "0.0\n"
     ]
    }
   ],
   "source": [
    "bCrit = []\n",
    "bValue = []\n",
    "pressure = []\n",
    "diffList = []\n",
    "findBCrit = []\n",
    "\n",
    "for i in range(0,len(files)):\n",
    "    \n",
    "    f = open(\"/Users/Jannie/Documents/Kittens-master/Pressure Plots/1.6kW_2.4mTorr reverse \" + str(files[i]) + \".txt\", \"r\")\n",
    "    reader = csv.reader(f, delimiter='\\n')\n",
    "    result = np.array(list(reader))\n",
    "    \n",
    "    for i in range(0, len(result)):\n",
    "        a = result[i]\n",
    "        dat = a[0].split()\n",
    "        b = float(dat[0])\n",
    "        p = float(dat[1])\n",
    "        bValue.append(b)\n",
    "        pressure.append(p) \n",
    "   \n",
    "    \n",
    "\n",
    "    for i in range(0, len(pressure)-1):\n",
    "        z = pressure[i+1] - pressure[i]\n",
    "        diffList.append( round(z,2) )\n",
    "    \n",
    "    x = diffList.index(max(diffList))\n",
    "    findBCrit.append(bValue[x])\n",
    "    bCrit = []\n",
    "    bValue = []\n",
    "    pressure = []\n",
    "    diffList = []\n",
    "\n",
    "\n",
    "sd = np.std(findBCrit)\n",
    "\n",
    "print(sum(findBCrit)/4)\n",
    "print (findBCrit)\n",
    "print (sd)\n",
    "\n",
    "print (sd/3.015)"
   ]
  }
 ],
 "metadata": {
  "kernelspec": {
   "display_name": "Python 3",
   "language": "python",
   "name": "python3"
  },
  "language_info": {
   "codemirror_mode": {
    "name": "ipython",
    "version": 3
   },
   "file_extension": ".py",
   "mimetype": "text/x-python",
   "name": "python",
   "nbconvert_exporter": "python",
   "pygments_lexer": "ipython3",
   "version": "3.6.1"
  }
 },
 "nbformat": 4,
 "nbformat_minor": 2
}
